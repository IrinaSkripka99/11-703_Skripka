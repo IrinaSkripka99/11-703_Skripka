{
 "cells": [
  {
   "cell_type": "code",
   "execution_count": 33,
   "metadata": {},
   "outputs": [],
   "source": [
    "import cv2\n",
    "import os"
   ]
  },
  {
   "cell_type": "code",
   "execution_count": 47,
   "metadata": {},
   "outputs": [],
   "source": [
    "def assure_path_exists(path):\n",
    "    dir = os.path.dirname(path)\n",
    "    if not os.path.exists(dir):\n",
    "        os.makedirs(dir)"
   ]
  },
  {
   "cell_type": "code",
   "execution_count": 48,
   "metadata": {},
   "outputs": [],
   "source": [
    "#  Запись видео\n",
    "vid_cam = cv2.VideoCapture(0)\n",
    "\n",
    "# Обнаружение объекта в видеопотоке с помощью Haarcascade Frontal Face\n",
    "face_detector = cv2.CascadeClassifier('haarcascade_frontalface_default.xml')\n",
    "\n",
    "# Для каждого человека один идентификатор лица\n",
    "face_id = 2\n",
    "# Инициализировать образец изображения лица\n",
    "count = 0\n",
    "\n",
    "assure_path_exists(\"dataset/\")"
   ]
  },
  {
   "cell_type": "code",
   "execution_count": 49,
   "metadata": {},
   "outputs": [],
   "source": [
    "while(True):\n",
    "\n",
    "    # Захват кадра видео\n",
    "    _, image_frame = vid_cam.read()\n",
    "    # Конвертируем\n",
    "    gray = cv2.cvtColor(image_frame, cv2.COLOR_BGR2GRAY)\n",
    "    # Обнаружение рамок разного размера\n",
    "    faces = face_detector.detectMultiScale(gray, 1.3, 5)\n",
    "\n",
    "    # Цикл для каждого лица\n",
    "    for (x,y,w,h) in faces:\n",
    "\n",
    "        # Обрезаем изображение в прямоуглоьник\n",
    "        cv2.rectangle(image_frame, (x,y), (x+w,y+h), (255,0,0), 2)\n",
    "        \n",
    "        # Считаем\n",
    "        count += 1\n",
    "\n",
    "        # Сохраняем в датасет\n",
    "        cv2.imwrite(\"dataset/User.\" + str(face_id) + '.' + str(count) + \".jpg\", gray[y:y+h,x:x+w])\n",
    "\n",
    "        # Показываем рамку для лица\n",
    "        cv2.imshow('frame', image_frame)\n",
    "\n",
    "    # Остановить съемку\n",
    "    if cv2.waitKey(100) & 0xFF == ord('q'):\n",
    "        break\n",
    "    elif count>100:\n",
    "        break\n",
    "\n",
    "vid_cam.release()\n",
    "\n",
    "cv2.destroyAllWindows()"
   ]
  },
  {
   "cell_type": "markdown",
   "metadata": {},
   "source": [
    "<img src=\"./result.PNG\"/>"
   ]
  },
  {
   "cell_type": "code",
   "execution_count": null,
   "metadata": {},
   "outputs": [],
   "source": []
  },
  {
   "cell_type": "code",
   "execution_count": null,
   "metadata": {},
   "outputs": [],
   "source": []
  },
  {
   "cell_type": "code",
   "execution_count": null,
   "metadata": {},
   "outputs": [],
   "source": []
  }
 ],
 "metadata": {
  "kernelspec": {
   "display_name": "Python 3",
   "language": "python",
   "name": "python3"
  },
  "language_info": {
   "codemirror_mode": {
    "name": "ipython",
    "version": 3
   },
   "file_extension": ".py",
   "mimetype": "text/x-python",
   "name": "python",
   "nbconvert_exporter": "python",
   "pygments_lexer": "ipython3",
   "version": "3.8.5"
  }
 },
 "nbformat": 4,
 "nbformat_minor": 2
}
