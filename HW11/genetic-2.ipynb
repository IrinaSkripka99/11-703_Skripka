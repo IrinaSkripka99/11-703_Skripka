{
 "cells": [
  {
   "cell_type": "code",
   "execution_count": 1,
   "metadata": {},
   "outputs": [],
   "source": [
    "import numpy as np"
   ]
  },
  {
   "cell_type": "code",
   "execution_count": 2,
   "metadata": {},
   "outputs": [],
   "source": [
    "def get_ranges(inputs, result):\n",
    "    ranges = []\n",
    "    for i in inputs:\n",
    "        value = result // i + 1\n",
    "        ranges.append([-value, value])\n",
    "    return ranges"
   ]
  },
  {
   "cell_type": "code",
   "execution_count": 3,
   "metadata": {},
   "outputs": [],
   "source": [
    "def init_population(population_size, ranges):\n",
    "    start_pop = []\n",
    "    for i in range(population_size):\n",
    "        arr = []\n",
    "        for j in range(len(ranges)):\n",
    "            arr.append(np.random.randint(ranges[j][0], ranges[j][1]))\n",
    "        start_pop.append(arr)\n",
    "    return start_pop"
   ]
  },
  {
   "cell_type": "code",
   "execution_count": 4,
   "metadata": {},
   "outputs": [],
   "source": [
    "def parents_selection(population, parents_num, p):\n",
    "    parents = []\n",
    "    for i in range(parents_num):\n",
    "        max_ind = [j for j in range(len(p)) if p[j] == max(p)][0]\n",
    "        parents.append(population[max_ind])\n",
    "        p.remove(max(p))\n",
    "    return parents"
   ]
  },
  {
   "cell_type": "code",
   "execution_count": 5,
   "metadata": {},
   "outputs": [],
   "source": [
    "def fitness_assessment(population, coef_num, y):\n",
    "    p = []\n",
    "    for i in range(len(population)):\n",
    "        s = 0\n",
    "        for j in range(coef_num):\n",
    "            s += population[i][j]*inputs[j]\n",
    "        r = np.abs(y - s) + 1\n",
    "        p.append(1/r)\n",
    "    return p"
   ]
  },
  {
   "cell_type": "code",
   "execution_count": 6,
   "metadata": {},
   "outputs": [],
   "source": [
    "def random_without(max_int, exception):\n",
    "    while True:\n",
    "        rand = np.random.randint(max_int)\n",
    "        if rand != exception:\n",
    "            return rand"
   ]
  },
  {
   "cell_type": "code",
   "execution_count": 7,
   "metadata": {},
   "outputs": [],
   "source": [
    "def procreation(parents, parents_num, progeny_num):\n",
    "    progeny = []\n",
    "    while True:\n",
    "        parent1 = np.random.randint(parents_num)\n",
    "        parent2 = random_without(parents_num, parent1)\n",
    "        progeny.append(np.append(parents[parent1][:2], parents[parent2][2:]))\n",
    "        if len(progeny) == progeny_num:\n",
    "            break\n",
    "        progeny.append(np.append(parents[parent2][:2], parents[parent1][2:]))\n",
    "        if len(progeny) == progeny_num:\n",
    "            break\n",
    "    return progeny"
   ]
  },
  {
   "cell_type": "code",
   "execution_count": 8,
   "metadata": {},
   "outputs": [],
   "source": [
    "def mutation(progeny):\n",
    "    for i in range(len(progeny)):\n",
    "        mutation = np.random.uniform(-1, 0, 1)\n",
    "        progeny[i][1] = progeny[i][1] + mutation\n",
    "    return progeny"
   ]
  },
  {
   "cell_type": "code",
   "execution_count": 9,
   "metadata": {},
   "outputs": [],
   "source": [
    "def get_new_population(progeny, parents):\n",
    "    new_population = []\n",
    "    for x in progeny:\n",
    "        new_population.append(x)\n",
    "    for i in range(2):\n",
    "        new_population.append(parents[i])\n",
    "    return new_population"
   ]
  },
  {
   "cell_type": "code",
   "execution_count": 10,
   "metadata": {},
   "outputs": [],
   "source": [
    "def find_solution(p, population):\n",
    "    best_result = max(p)\n",
    "    ind = [i for i in range(len(p)) if p[i] == best_result][0]\n",
    "    if(best_result >=0.2):\n",
    "        print('Best solution: {0} with fitness {1}'.format(population[ind], best_result))\n",
    "        return True\n",
    "    else:\n",
    "        return False"
   ]
  },
  {
   "cell_type": "code",
   "execution_count": 11,
   "metadata": {},
   "outputs": [],
   "source": [
    "inputs = [2, 3, 5, 10, 5]\n",
    "y = 30\n",
    "population_size = 6\n",
    "parents_num = 4\n",
    "progeny_num = 6"
   ]
  },
  {
   "cell_type": "code",
   "execution_count": 12,
   "metadata": {},
   "outputs": [
    {
     "name": "stdout",
     "output_type": "stream",
     "text": [
      "Best solution: [-6  7  2  1  0] with fitness 0.5\n"
     ]
    }
   ],
   "source": [
    "coef_num = len(inputs)\n",
    "ranges = get_ranges(inputs, y)\n",
    "population = init_population(population_size,  ranges)\n",
    "p = fitness_assessment(population, coef_num, y)\n",
    "while find_solution(p, population) is False:\n",
    "    parents = parents_selection(population, parents_num, p)\n",
    "    progeny = procreation(parents, parents_num, progeny_num)\n",
    "    progeny_mutation = mutation(progeny)\n",
    "    population = get_new_population(progeny_mutation, parents)\n",
    "    p = fitness_assessment(population, coef_num, y)"
   ]
  },
  {
   "cell_type": "code",
   "execution_count": null,
   "metadata": {},
   "outputs": [],
   "source": []
  },
  {
   "cell_type": "code",
   "execution_count": null,
   "metadata": {},
   "outputs": [],
   "source": []
  },
  {
   "cell_type": "code",
   "execution_count": null,
   "metadata": {},
   "outputs": [],
   "source": []
  },
  {
   "cell_type": "code",
   "execution_count": null,
   "metadata": {},
   "outputs": [],
   "source": []
  }
 ],
 "metadata": {
  "kernelspec": {
   "display_name": "Python 3",
   "language": "python",
   "name": "python3"
  },
  "language_info": {
   "codemirror_mode": {
    "name": "ipython",
    "version": 3
   },
   "file_extension": ".py",
   "mimetype": "text/x-python",
   "name": "python",
   "nbconvert_exporter": "python",
   "pygments_lexer": "ipython3",
   "version": "3.8.5"
  }
 },
 "nbformat": 4,
 "nbformat_minor": 4
}
