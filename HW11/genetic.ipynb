{
 "cells": [
  {
   "cell_type": "code",
   "execution_count": 27,
   "metadata": {},
   "outputs": [],
   "source": [
    "import numpy"
   ]
  },
  {
   "cell_type": "code",
   "execution_count": 22,
   "metadata": {},
   "outputs": [],
   "source": [
    "def cal_pop_fitness(equation_inputs, pop):\n",
    "    # Calculating the fitness value of each solution in the current population.\n",
    "    # The fitness function caulcuates the sum of products between each input and its corresponding weight.\n",
    "    fitness = numpy.sum(pop*equation_inputs, axis=1)\n",
    "    return fitness"
   ]
  },
  {
   "cell_type": "code",
   "execution_count": 23,
   "metadata": {},
   "outputs": [],
   "source": [
    "def select_mating_pool(pop, fitness, num_parents):\n",
    "    # Selecting the best individuals in the current generation as parents for producing the offspring of the next generation.\n",
    "    parents = numpy.empty((num_parents, pop.shape[1]))\n",
    "    for parent_num in range(num_parents):\n",
    "        max_fitness_idx = numpy.where(fitness == numpy.max(fitness))\n",
    "        max_fitness_idx = max_fitness_idx[0][0]\n",
    "        parents[parent_num, :] = pop[max_fitness_idx, :]\n",
    "        fitness[max_fitness_idx] = -99999999999\n",
    "    return parents"
   ]
  },
  {
   "cell_type": "code",
   "execution_count": 24,
   "metadata": {},
   "outputs": [],
   "source": [
    "def crossover(parents, offspring_size):\n",
    "    offspring = numpy.empty(offspring_size)\n",
    "    # The point at which crossover takes place between two parents. Usually it is at the center.\n",
    "    crossover_point = numpy.uint8(offspring_size[1]/2)\n",
    "\n",
    "    for k in range(offspring_size[0]):\n",
    "        # Index of the first parent to mate.\n",
    "        parent1_idx = k%parents.shape[0]\n",
    "        # Index of the second parent to mate.\n",
    "        parent2_idx = (k+1)%parents.shape[0]\n",
    "        # The new offspring will have its first half of its genes taken from the first parent.\n",
    "        offspring[k, 0:crossover_point] = parents[parent1_idx, 0:crossover_point]\n",
    "        # The new offspring will have its second half of its genes taken from the second parent.\n",
    "        offspring[k, crossover_point:] = parents[parent2_idx, crossover_point:]\n",
    "    return offspring"
   ]
  },
  {
   "cell_type": "code",
   "execution_count": 25,
   "metadata": {},
   "outputs": [],
   "source": [
    "def mutation(offspring_crossover):\n",
    "    # Мутация изменяет один ген в каждом потомстве случайным образом.\n",
    "    for idx in range(offspring_crossover.shape[0]):\n",
    "           # Случайное значение, добавляемое к гену.\n",
    "        random_value = numpy.random.uniform(-1.0, 1.0, 1)\n",
    "        offspring_crossover[idx, 4] = offspring_crossover[idx, 4] + random_value\n",
    "    return offspring_crossover"
   ]
  },
  {
   "cell_type": "code",
   "execution_count": 35,
   "metadata": {},
   "outputs": [
    {
     "name": "stdout",
     "output_type": "stream",
     "text": [
      "[[-0.44194862  3.52371115  3.23621379  3.44588822 -1.73482583 -0.3983243\n",
      "  -0.46720043]\n",
      " [ 3.23129799 -2.31281179  2.73552555 -0.43205142  2.44618094 -1.30609235\n",
      "   0.7732311 ]\n",
      " [ 3.26425155 -3.15720537  0.37678778 -1.48422054  0.72468465 -2.52870112\n",
      "  -1.08709424]\n",
      " [ 1.86790898  2.50837599  1.47054274 -0.33087597  1.66184383  3.33124549\n",
      "   3.39193478]\n",
      " [ 1.40997286  0.40568077  1.6962646  -3.99608826  1.37287531 -3.43921252\n",
      "  -1.73828997]\n",
      " [-1.06208195  1.05556149 -2.5490402   0.46031583  1.44879858 -3.43367932\n",
      "   2.96863141]\n",
      " [-2.14743217 -2.36690778  1.63359329  1.35762378  3.7669667   0.64226212\n",
      "  -1.49926071]\n",
      " [ 2.05077153  2.23279925  2.19387337 -3.06846106  1.21877221 -3.88380752\n",
      "   0.08719476]]\n",
      "Итерация № 0\n",
      "Лучший результат :  128.42438694251638\n",
      "Итерация № 1\n",
      "Лучший результат :  128.42438694251638\n",
      "Итерация № 2\n",
      "Лучший результат :  128.42438694251638\n",
      "Итерация № 3\n",
      "Лучший результат :  130.9447626817785\n",
      "Итерация № 4\n",
      "Лучший результат :  134.24181081175954\n",
      "Лучшее решение :  [[[-0.44194862  3.52371115  3.23621379 -3.06846106  2.55749973\n",
      "   -3.88380752  0.08719476]]]\n",
      "Лучший показатель пригодности :  [134.24181081]\n"
     ]
    }
   ],
   "source": [
    "#  создадим список из 7 входов и переменную для хранения количества весов следующим образом:\n",
    "equation_inputs = [4, 6, 15 ,.5, 5, -14, 8]\n",
    "num_weights = 7\n",
    "\n",
    "sol_per_pop = 8\n",
    "num_parents_mating = 4\n",
    "\n",
    "# У популяции будет хромосома sol_per_pop, где каждая хромосома имеет num_weights генов.\n",
    "pop_size = (sol_per_pop,num_weights) \n",
    "#определение начальной популяции\n",
    "new_population = numpy.random.uniform(low=-4.0, high=4.0, size=pop_size)\n",
    "print(new_population)\n",
    "\n",
    "num_generations = 5\n",
    "for generation in range(num_generations):\n",
    "    print(\"Итерация №\", generation)\n",
    "    # Измерение приспособленности каждой хромосомы в популяции.\n",
    "    fitness = cal_pop_fitness(equation_inputs, new_population)\n",
    "\n",
    "    # Выбор лучших родителей в популяции для спаривания.\n",
    "    parents = select_mating_pool(new_population, fitness, \n",
    "                                      num_parents_mating)\n",
    "\n",
    "    #Создание нового поколения с использованием кроссовера.\n",
    "    offspring_crossover = crossover(parents,\n",
    "                                       offspring_size=(pop_size[0]-parents.shape[0], num_weights))\n",
    "\n",
    "    # Добавление к потомству некоторых вариаций с помощью мутации\n",
    "    offspring_mutation = mutation(offspring_crossover)\n",
    "\n",
    "    # Создание новой популяции на основе родителей и потомства.\n",
    "    new_population[0:parents.shape[0], :] = parents\n",
    "    new_population[parents.shape[0]:, :] = offspring_mutation\n",
    "\n",
    "    # Лучший результат в текущей итерации.\n",
    "    print(\"Лучший результат : \", numpy.max(numpy.sum(new_population*equation_inputs, axis=1)))\n",
    "\n",
    "# Получение лучшего решения после итерации доводя все поколения.\n",
    "# Сначала рассчитывается пригодность для каждого решения в последнем поколении.\n",
    "fitness = cal_pop_fitness(equation_inputs, new_population)\n",
    "# Затем возвращаем индекс этого решения, соответствующего наилучшей пригодности.\n",
    "best_match_idx = numpy.where(fitness == numpy.max(fitness))\n",
    "\n",
    "print(\"Лучшее решение : \", new_population[best_match_idx, :])\n",
    "print(\"Лучший показатель пригодности : \", fitness[best_match_idx])"
   ]
  },
  {
   "cell_type": "code",
   "execution_count": null,
   "metadata": {},
   "outputs": [],
   "source": []
  }
 ],
 "metadata": {
  "kernelspec": {
   "display_name": "Python 3",
   "language": "python",
   "name": "python3"
  },
  "language_info": {
   "codemirror_mode": {
    "name": "ipython",
    "version": 3
   },
   "file_extension": ".py",
   "mimetype": "text/x-python",
   "name": "python",
   "nbconvert_exporter": "python",
   "pygments_lexer": "ipython3",
   "version": "3.7.8"
  }
 },
 "nbformat": 4,
 "nbformat_minor": 4
}
