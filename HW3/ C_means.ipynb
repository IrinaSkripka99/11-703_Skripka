{
 "cells": [
  {
   "cell_type": "code",
   "execution_count": 85,
   "metadata": {},
   "outputs": [],
   "source": [
    "import numpy as np\n",
    "import matplotlib.cm as cm\n",
    "import random\n",
    "from matplotlib import pyplot as plt"
   ]
  },
  {
   "cell_type": "code",
   "execution_count": 86,
   "metadata": {},
   "outputs": [],
   "source": [
    "n = 100\n",
    "dataset = np.array([[np.random.uniform(0, n), np.random.uniform(0, n)] for k in range(n // 2)])"
   ]
  },
  {
   "cell_type": "code",
   "execution_count": 87,
   "metadata": {},
   "outputs": [],
   "source": [
    "x = np.arange(n)\n",
    "ys = [i+x+(i*x)**2 for i in range(10)]\n",
    "colors = cm.rainbow(np.linspace(0, 1, len(ys)))"
   ]
  },
  {
   "cell_type": "markdown",
   "metadata": {},
   "source": [
    "**Алгоритм**\n",
    "\n",
    "1. Распределяем точки по кластерам случайным образом.\n",
    "2. Для каждого кластера находим его центр, для этого считаем покомпонентное\n",
    "   среднее всех относящихся к нему точек, причем каждая точка берется с весом,\n",
    "   равным степени ее принадлежности к кластеру.\n",
    "3. Пересчитываем матрицу распределения по следующей формуле:\n",
    "4. Если на предыдущем шаге матрица распределения изменилась меньше, чем на cut_param,\n",
    "   или если мы совершили максимально допустимое число итераций(max_iter), прекращаем\n",
    "   работу. Иначе переходим к пункту 2.\n",
    "5. Результат работы алгоритма текущее разбиение точек на кластеры."
   ]
  },
  {
   "cell_type": "code",
   "execution_count": 88,
   "metadata": {},
   "outputs": [],
   "source": [
    "if __name__ == '__main__':\n",
    "\n",
    "    class C_Means():\n",
    "        def __init__(self, dataset, c=2, k=3, cut_param=0.9):\n",
    "            self.dataset = dataset\n",
    "            self.c = c\n",
    "            self.k = k\n",
    "            self.cut_param = cut_param\n",
    "            self.max_iter = 100\n",
    "            self.tolerance = 0.01\n",
    "            self.dist = np.zeros((self.dataset.shape[0], self.k))\n",
    "            self.centroids = np.array([[np.random.uniform(0, n), np.random.uniform(0, n)]\n",
    "                                       for i in range(self.k)])\n",
    "            self.rate = np.array([[np.random.uniform(0, 1)\n",
    "                                for i in range(self.k)]\n",
    "                               for j in range(self.dataset.shape[0])])\n",
    "            self.clusters = np.array([])\n",
    "        \n",
    "        def find_centroids(self):\n",
    "            self.centroids = (self.rate.T).dot(self.dataset) / self.rate.sum(axis=0)[:, None]\n",
    "            \n",
    "        def dist2(self, list1, list2):\n",
    "            return sum((i - j) ** 2 for i, j in zip(list1, list2))\n",
    "       \n",
    "        def update_data(self):\n",
    "            self.dist = np.array([[self.dist2(i, j) for i in self.centroids] for j in self.dataset])\n",
    "            self.rate = (1 / self.dist) ** (1 / (self.c - 1))\n",
    "            self.update_array()\n",
    "            self.rate = (self.rate / self.rate.sum(axis=1)[:, None])\n",
    "            \n",
    "        def update_array(self):\n",
    "            arr = np.where(np.isinf(self.rate))\n",
    "            for i in range(0, len(arr[0])):\n",
    "                self.rate[arr[0][i]] = 0\n",
    "                self.rate[arr[0][i]][arr[1][i]] = 1\n",
    "                \n",
    "       \n",
    "            \n",
    "        def fit(self):\n",
    "            iter = 1\n",
    "            while iter < self.max_iter:\n",
    "                prev_centroids = np.copy(self.centroids)\n",
    "                self.find_centroids()\n",
    "                self.update_data()\n",
    "                if max([self.dist2(i, k) for i, k in zip(self.centroids, prev_centroids)]) < self.tolerance:\n",
    "                    break\n",
    "                iter += 1\n",
    "                \n",
    "        def find_clusters(self):\n",
    "            clusters = np.array([])\n",
    "            for i in range(len(self.rate)):\n",
    "                \n",
    "                i_max = self.rate[i][0]\n",
    "                i_max_indx = 0\n",
    "                for j in range(len(self.rate[i])):\n",
    "                    if (self.rate[i][j] > i_max):\n",
    "                        i_max = self.rate[i][j]\n",
    "                        i_max_indx = j\n",
    "                if (i_max > self.cut_param):\n",
    "                    clusters = np.append(list(clusters), i_max_indx + 1).astype(int)\n",
    "                else:\n",
    "                    clusters = np.append(list(clusters), 0).astype(int)\n",
    "            return clusters"
   ]
  },
  {
   "cell_type": "code",
   "execution_count": 89,
   "metadata": {},
   "outputs": [],
   "source": [
    "CMeansModel = C_Means(dataset,2 ,3 , .5)\n",
    "CMeansModel.fit()\n",
    "clusters = CMeansModel.find_clusters()"
   ]
  },
  {
   "cell_type": "code",
   "execution_count": 90,
   "metadata": {},
   "outputs": [
    {
     "data": {
      "image/png": "[encoded data removed]",
      "text/plain": [
       "<Figure size 288x288 with 1 Axes>"
      ]
     },
     "metadata": {
      "needs_background": "light"
     },
     "output_type": "display_data"
    }
   ],
   "source": [
    "plt.figure(figsize=(4, 4))\n",
    "plt.scatter(dataset[:, 0], dataset[:, 1], color=colors[clusters])\n",
    "plt.show()"
   ]
  },
  {
   "cell_type": "code",
   "execution_count": null,
   "metadata": {},
   "outputs": [],
   "source": []
  },
  {
   "cell_type": "code",
   "execution_count": null,
   "metadata": {},
   "outputs": [],
   "source": []
  },
  {
   "cell_type": "code",
   "execution_count": null,
   "metadata": {},
   "outputs": [],
   "source": []
  }
 ],
 "metadata": {
  "kernelspec": {
   "display_name": "Python 3",
   "language": "python",
   "name": "python3"
  },
  "language_info": {
   "codemirror_mode": {
    "name": "ipython",
    "version": 3
   },
   "file_extension": ".py",
   "mimetype": "text/x-python",
   "name": "python",
   "nbconvert_exporter": "python",
   "pygments_lexer": "ipython3",
   "version": "3.8.3"
  }
 },
 "nbformat": 4,
 "nbformat_minor": 4
}
