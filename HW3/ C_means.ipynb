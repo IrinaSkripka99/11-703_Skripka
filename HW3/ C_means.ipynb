{
 "cells": [
  {
   "cell_type": "code",
   "execution_count": 213,
   "metadata": {},
   "outputs": [],
   "source": [
    "import numpy as np\n",
    "import matplotlib.cm as cm\n",
    "import random\n",
    "from matplotlib import pyplot as plt"
   ]
  },
  {
   "cell_type": "code",
   "execution_count": 233,
   "metadata": {},
   "outputs": [],
   "source": [
    "if __name__ == '__main__':\n",
    "\n",
    "    class C_Means():\n",
    "        def __init__(self, dataset, n_clusters=3, fuzzy_c=2, cut_param=.9):\n",
    "            self.dataset = dataset\n",
    "            # количество кластеров\n",
    "            self.n_clusters = n_clusters\n",
    "            # Параметр с\n",
    "            self.fuzzy_c = fuzzy_c\n",
    "            self.cut_param = cut_param\n",
    "            # Количество итераций макс\n",
    "            self.max_iter_num = 100\n",
    "            self.tolerance = .01\n",
    "            self.dist = np.zeros((self.dataset.shape[0], self.n_clusters))\n",
    "            self.centroids = np.array(\n",
    "            [[np.random.uniform(0, 640), np.random.uniform(0, 480)] for i in range(self.n_clusters)])\n",
    "            self.u = np.array([[np.random.uniform(0, 1) for i in range(self.n_clusters)] \n",
    "            for j in range(self.dataset.shape[0])])\n",
    "            self.labels = np.array([])\n",
    "        def get_dist(self, list1, list2):\n",
    "            return sum((i - j) ** 2 for i, j in zip(list1, list2))\n",
    "        def distribute_data(self):\n",
    "            self.dist = np.array([[self.get_dist(i, j) for i in self.centroids] for j in self.dataset])\n",
    "            self.u = (1 / self.dist) ** (1 / (self.fuzzy_c - 1))\n",
    "            self.normalize_arr()\n",
    "            self.u = (self.u / self.u.sum(axis=1)[:, None])\n",
    "        def normalize_arr(self):\n",
    "            arr_with_inf = np.where(np.isinf(self.u))\n",
    "            lines = arr_with_inf[0]\n",
    "            rows = arr_with_inf[1]\n",
    "            for i in range(0, len(lines)):\n",
    "                self.u[lines[i]] = 0\n",
    "                self.u[lines[i]][rows[i]] = 1\n",
    "        def recalculate_centroids(self):\n",
    "            self.centroids = (self.u.T).dot(self.dataset) / self.u.sum(axis=0)[:, None]\n",
    "        def fit(self):\n",
    "            iter = 1\n",
    "            while iter < self.max_iter_num:\n",
    "                prev_centroids = np.copy(self.centroids)\n",
    "                self.recalculate_centroids()\n",
    "                self.distribute_data()\n",
    "                if max([self.get_dist(i, k) for i, k in zip(self.centroids, prev_centroids)]) < self.tolerance:\n",
    "                    break\n",
    "                iter += 1\n",
    "        def cluster(self):\n",
    "            labels = np.array([])\n",
    "            for i in range(len(self.u)):\n",
    "                # print(len(self.u))\n",
    "                i_max = self.u[i][0]\n",
    "                i_max_indx = 0\n",
    "                for j in range(len(self.u[i])):\n",
    "                    if (self.u[i][j] > i_max):\n",
    "                        i_max = self.u[i][j]\n",
    "                        i_max_indx = j\n",
    "                if (i_max > self.cut_param):\n",
    "                    labels = np.append(list(labels), i_max_indx + 1).astype(int)\n",
    "                else:\n",
    "                        labels = np.append(list(labels), 0).astype(int)\n",
    "            return labels"
   ]
  },
  {
   "cell_type": "code",
   "execution_count": 234,
   "metadata": {},
   "outputs": [
    {
     "data": {
      "text/plain": [
       "array([[ 4.93063104, 71.45020611],\n",
       "       [ 8.73841296, 15.65311468],\n",
       "       [ 3.3900622 , 25.54551307],\n",
       "       [16.22167686, 59.34510601],\n",
       "       [32.0257529 , 55.66833019],\n",
       "       [39.32889428, 47.43571052],\n",
       "       [11.14598085, 20.84989334],\n",
       "       [73.39797896, 45.46688991],\n",
       "       [35.66941957, 75.72478596],\n",
       "       [60.53804006,  1.85001137],\n",
       "       [73.5979833 , 90.67678384],\n",
       "       [90.70748786, 74.612719  ],\n",
       "       [22.36541816, 76.11585868],\n",
       "       [92.86666686, 92.00305433],\n",
       "       [42.13335214,  6.50696086],\n",
       "       [72.57666082, 97.83896395],\n",
       "       [78.61502152, 47.14727204],\n",
       "       [37.99177552, 79.5822193 ],\n",
       "       [19.75855477, 76.76090611],\n",
       "       [72.25368815, 14.57275954],\n",
       "       [12.29794033, 51.9463815 ],\n",
       "       [52.24061054, 81.45894388],\n",
       "       [75.35502837, 84.5206488 ],\n",
       "       [26.73663304, 15.58161108],\n",
       "       [96.75420727, 70.6910263 ],\n",
       "       [ 5.61323493, 70.44256012],\n",
       "       [96.90135714, 37.14392697],\n",
       "       [42.54058333, 61.3554454 ],\n",
       "       [13.14730606, 77.75767858],\n",
       "       [49.25672571, 66.75034472],\n",
       "       [26.35683771, 54.18722872],\n",
       "       [35.51126339,  0.94725196],\n",
       "       [61.24855458, 31.39160484],\n",
       "       [44.60781251, 44.81786268],\n",
       "       [49.86027964, 67.44644458],\n",
       "       [39.54395443, 47.25799701],\n",
       "       [84.47376742, 25.81998812],\n",
       "       [ 1.43114025, 70.87280489],\n",
       "       [ 9.5870652 , 84.54486838],\n",
       "       [57.51874163,  9.05215175],\n",
       "       [52.0903599 , 38.54492943],\n",
       "       [50.03666153, 78.1335024 ],\n",
       "       [33.99366523, 82.22666596],\n",
       "       [ 2.6471365 , 75.00462386],\n",
       "       [64.54462646, 67.10938037],\n",
       "       [53.33233668, 35.76309038],\n",
       "       [56.74578839, 86.72217972],\n",
       "       [60.84698706, 40.93400751],\n",
       "       [61.3921158 , 63.66093145],\n",
       "       [26.02032957, 92.83851028]])"
      ]
     },
     "execution_count": 234,
     "metadata": {},
     "output_type": "execute_result"
    }
   ],
   "source": [
    "n = 100\n",
    "dataset = np.array([[np.random.uniform(0, n), np.random.uniform(0, n)] for k in range(n // 2)])\n",
    "dataset"
   ]
  },
  {
   "cell_type": "code",
   "execution_count": 235,
   "metadata": {},
   "outputs": [],
   "source": [
    "test = C_Means(dataset, 3, 2, .5)\n",
    "test.fit()\n",
    "pred = test.cluster()"
   ]
  },
  {
   "cell_type": "code",
   "execution_count": 236,
   "metadata": {},
   "outputs": [],
   "source": [
    "x = np.arange(n)\n",
    "ys = [i+x+(i*x)**2 for i in range(10)]\n",
    "colors = cm.rainbow(np.linspace(0, 1, len(ys)))"
   ]
  },
  {
   "cell_type": "code",
   "execution_count": 237,
   "metadata": {},
   "outputs": [
    {
     "data": {
      "image/png": "[encoded data removed]",
      "text/plain": [
       "<Figure size 288x288 with 1 Axes>"
      ]
     },
     "metadata": {
      "needs_background": "light"
     },
     "output_type": "display_data"
    }
   ],
   "source": [
    "# scatter plots\n",
    "plt.figure(figsize=(4, 4))\n",
    "plt.scatter(dataset[:, 0], dataset[:, 1], color=colors[pred])\n",
    "plt.show()"
   ]
  },
  {
   "cell_type": "code",
   "execution_count": null,
   "metadata": {},
   "outputs": [],
   "source": []
  }
 ],
 "metadata": {
  "kernelspec": {
   "display_name": "Python 3",
   "language": "python",
   "name": "python3"
  },
  "language_info": {
   "codemirror_mode": {
    "name": "ipython",
    "version": 3
   },
   "file_extension": ".py",
   "mimetype": "text/x-python",
   "name": "python",
   "nbconvert_exporter": "python",
   "pygments_lexer": "ipython3",
   "version": "3.8.3"
  }
 },
 "nbformat": 4,
 "nbformat_minor": 4
}
