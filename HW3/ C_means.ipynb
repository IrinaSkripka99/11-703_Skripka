{
 "cells": [
  {
   "cell_type": "code",
   "execution_count": 55,
   "metadata": {},
   "outputs": [],
   "source": [
    "import numpy as np\n",
    "import matplotlib.cm as cm\n",
    "import random\n",
    "from matplotlib import pyplot as plt"
   ]
  },
  {
   "cell_type": "code",
   "execution_count": 56,
   "metadata": {},
   "outputs": [],
   "source": [
    "if __name__ == '__main__':\n",
    "\n",
    "    class C_Means():\n",
    "        def __init__(self, dataset, n_clusters=3, fuzzy_c=2, cut_param=.9):\n",
    "            self.dataset = dataset\n",
    "            # Number of Clusters\n",
    "            self.n_clusters = n_clusters\n",
    "            # Fuzzy parameter\n",
    "            self.fuzzy_c = fuzzy_c\n",
    "            self.cut_param = cut_param\n",
    "            # Maximum number of iterations\n",
    "            self.max_iter_num = 100\n",
    "            self.tolerance = .01\n",
    "            self.dist = np.zeros((self.dataset.shape[0], self.n_clusters))\n",
    "            self.centroids = np.array(\n",
    "            [[np.random.uniform(0, 640), np.random.uniform(0, 480)] for i in range(self.n_clusters)])\n",
    "            self.u = np.array([[np.random.uniform(0, 1) for i in range(self.n_clusters)] \n",
    "            for j in range(self.dataset.shape[0])])\n",
    "            self.labels = np.array([])\n",
    "        def get_dist2(self, list1, list2):\n",
    "            return sum((i - j) ** 2 for i, j in zip(list1, list2))\n",
    "        def distribute_data(self):\n",
    "            # для каждого объекта рассчитываем расстояние до центра каждого кластера\n",
    "            self.dist = np.array([[self.get_dist2(i, j) for i in self.centroids] for j in self.dataset])\n",
    "            # рассчитываем коэффициент принадлежности u для данного объекта\n",
    "            self.u = (1 / self.dist) ** (1 / (self.fuzzy_c - 1))\n",
    "            # нормализуем коэффициенты u для данного объекта\n",
    "            self.normalize_arr()\n",
    "            self.u = (self.u / self.u.sum(axis=1)[:, None])\n",
    "        def normalize_arr(self):\n",
    "            arr_with_inf = np.where(np.isinf(self.u))\n",
    "            lines = arr_with_inf[0]\n",
    "            rows = arr_with_inf[1]\n",
    "            for i in range(0, len(lines)):\n",
    "                self.u[lines[i]] = 0\n",
    "                self.u[lines[i]][rows[i]] = 1\n",
    "        def recalculate_centroids(self):\n",
    "            self.centroids = (self.u.T).dot(self.dataset) / self.u.sum(axis=0)[:, None]\n",
    "        def fit(self):\n",
    "            iter = 1\n",
    "            while iter < self.max_iter_num:\n",
    "                prev_centroids = np.copy(self.centroids)\n",
    "                # рассчитываем центры кластеров\n",
    "                self.recalculate_centroids()\n",
    "                self.distribute_data()\n",
    "                if max([self.get_dist2(i, k) for i, k in zip(self.centroids, prev_centroids)]) < self.tolerance:\n",
    "                    break\n",
    "                iter += 1\n",
    "        # getting the clusters\n",
    "        def getLabels(self):\n",
    "            labels = np.array([])\n",
    "            for i in range(len(self.u)):\n",
    "                i_max = self.u[i][0]\n",
    "                i_max_indx = 0\n",
    "                for j in range(len(self.u[i])):\n",
    "                    if (self.u[i][j] > i_max):\n",
    "                        i_max = self.u[i][j]\n",
    "                        i_max_indx = j\n",
    "                    if (i_max > self.cut_param):\n",
    "                        labels = np.append(list(labels), i_max_indx + 1).astype(int)\n",
    "                    else:\n",
    "                        labels = np.append(list(labels), 0).astype(int)\n",
    "            return labels"
   ]
  },
  {
   "cell_type": "code",
   "execution_count": 75,
   "metadata": {},
   "outputs": [
    {
     "data": {
      "text/plain": [
       "array([16.83812085, 13.78252324,  0.66247754, 14.40357329,  4.32872315,\n",
       "        7.17864407, 12.01312653,  7.39333373, 18.4053173 ,  7.74968164])"
      ]
     },
     "execution_count": 75,
     "metadata": {},
     "output_type": "execute_result"
    }
   ],
   "source": [
    "# генерируем данные\n",
    "# uniform дает floating-point значение\n",
    "n=20\n",
    "dataset = np.array([[np.random.uniform(0, n), np.random.uniform(0, n)] for k in range(10)])\n",
    "dataset[:,1]"
   ]
  },
  {
   "cell_type": "code",
   "execution_count": 76,
   "metadata": {},
   "outputs": [],
   "source": [
    "# fit the fuzzy-c-means\n",
    "test = C_Means(dataset, 3, 2, .5)\n",
    "test.fit()\n",
    "colors = np.array(['b', 'g', 'b', 'r','o','black'])\n",
    "pred = test.getLabels()"
   ]
  },
  {
   "cell_type": "code",
   "execution_count": 77,
   "metadata": {},
   "outputs": [],
   "source": [
    "x = np.arange(len(dataset))\n",
    "ys = [i+x+(i*x)**2 for i in range(len(dataset))]\n",
    "\n",
    "colors = cm.rainbow(np.linspace(0, 1, len(ys)))"
   ]
  },
  {
   "cell_type": "code",
   "execution_count": 78,
   "metadata": {},
   "outputs": [
    {
     "data": {
      "image/png": "[encoded data removed]",
      "text/plain": [
       "<Figure size 288x288 with 1 Axes>"
      ]
     },
     "metadata": {
      "needs_background": "light"
     },
     "output_type": "display_data"
    }
   ],
   "source": [
    "# scatter plots\n",
    "plt.figure(figsize=(4, 4))\n",
    "plt.scatter(dataset[:, 0], dataset[:, 1], color=colors)\n",
    "plt.show()"
   ]
  },
  {
   "cell_type": "code",
   "execution_count": null,
   "metadata": {},
   "outputs": [],
   "source": []
  },
  {
   "cell_type": "code",
   "execution_count": null,
   "metadata": {},
   "outputs": [],
   "source": []
  }
 ],
 "metadata": {
  "kernelspec": {
   "display_name": "Python 3",
   "language": "python",
   "name": "python3"
  },
  "language_info": {
   "codemirror_mode": {
    "name": "ipython",
    "version": 3
   },
   "file_extension": ".py",
   "mimetype": "text/x-python",
   "name": "python",
   "nbconvert_exporter": "python",
   "pygments_lexer": "ipython3",
   "version": "3.8.3"
  }
 },
 "nbformat": 4,
 "nbformat_minor": 4
}
