{
 "cells": [
  {
   "cell_type": "code",
   "execution_count": 13,
   "metadata": {},
   "outputs": [],
   "source": [
    "import numpy as np\n",
    "import matplotlib.cm as cm\n",
    "import random\n",
    "from matplotlib import pyplot as plt"
   ]
  },
  {
   "cell_type": "code",
   "execution_count": 56,
   "metadata": {},
   "outputs": [],
   "source": [
    "x = np.arange(n)\n",
    "ys = [i+x+(i*x)**2 for i in range(10)]\n",
    "colors = cm.rainbow(np.linspace(0, 1, len(ys)))"
   ]
  },
  {
   "cell_type": "code",
   "execution_count": 57,
   "metadata": {},
   "outputs": [],
   "source": [
    "n = 100\n",
    "dataset = np.array([[np.random.uniform(0, n), np.random.uniform(0, n)] for k in range(n // 2)])"
   ]
  },
  {
   "cell_type": "code",
   "execution_count": 58,
   "metadata": {},
   "outputs": [],
   "source": [
    "if __name__ == '__main__':\n",
    "\n",
    "    class C_Means():\n",
    "        def __init__(self, dataset, fuzzy_c=2, count_clusters=3, cut_param=.9):\n",
    "            self.dataset = dataset\n",
    "            self.count_clusters = count_clusters\n",
    "            self.fuzzy_c = fuzzy_c\n",
    "            self.cut_param = cut_param\n",
    "            self.max_iter_num = 100\n",
    "            self.tolerance = .01\n",
    "            self.dist = np.zeros((self.dataset.shape[0], self.count_clusters))\n",
    "            self.centroids = np.array([[np.random.uniform(0, n), np.random.uniform(0, n)] for i in range(self.count_clusters)])\n",
    "            self.u = np.array([[np.random.uniform(0, 1) for i in range(self.count_clusters)]        \n",
    "            for j in range(self.dataset.shape[0])])\n",
    "            self.clusters = np.array([])\n",
    "        \n",
    "        def dist2(self, list1, list2):\n",
    "            return sum((i - j) ** 2 for i, j in zip(list1, list2))\n",
    "       \n",
    "        def distribute_data(self):\n",
    "            self.dist = np.array([[self.dist2(i, j) for i in self.centroids] for j in self.dataset])\n",
    "            self.u = (1 / self.dist) ** (1 / (self.fuzzy_c - 1))\n",
    "            self.update_array()\n",
    "            self.u = (self.u / self.u.sum(axis=1)[:, None])\n",
    "            \n",
    "        def update_array(self):\n",
    "            arr = np.where(np.isinf(self.u))\n",
    "            for i in range(0, len(arr[0])):\n",
    "                self.u[arr[0][i]] = 0\n",
    "                self.u[arr[0][i]][arr[1][i]] = 1\n",
    "                \n",
    "        def find_centroids(self):\n",
    "            self.centroids = (self.u.T).dot(self.dataset) / self.u.sum(axis=0)[:, None]\n",
    "            \n",
    "        def fit(self):\n",
    "            iter = 1\n",
    "            while iter < self.max_iter_num:\n",
    "                prev_centroids = np.copy(self.centroids)\n",
    "                self.find_centroids()\n",
    "                self.distribute_data()\n",
    "                if max([self.dist2(i, k) for i, k in zip(self.centroids, prev_centroids)]) < self.tolerance:\n",
    "                    break\n",
    "                iter += 1\n",
    "                \n",
    "        def find_clusters(self):\n",
    "            clusters = np.array([])\n",
    "            for i in range(len(self.u)):\n",
    "                \n",
    "                i_max = self.u[i][0]\n",
    "                i_max_indx = 0\n",
    "                for j in range(len(self.u[i])):\n",
    "                    if (self.u[i][j] > i_max):\n",
    "                        i_max = self.u[i][j]\n",
    "                        i_max_indx = j\n",
    "                if (i_max > self.cut_param):\n",
    "                    clusters = np.append(list(clusters), i_max_indx + 1).astype(int)\n",
    "                else:\n",
    "                    clusters = np.append(list(clusters), 0).astype(int)\n",
    "            return clusters"
   ]
  },
  {
   "cell_type": "code",
   "execution_count": 59,
   "metadata": {},
   "outputs": [],
   "source": [
    "test = C_Means(dataset,2 ,3 , .5)\n",
    "test.fit()\n",
    "clusters = test.find_clusters()"
   ]
  },
  {
   "cell_type": "code",
   "execution_count": 60,
   "metadata": {},
   "outputs": [
    {
     "data": {
      "image/png": "[encoded data removed]",
      "text/plain": [
       "<Figure size 288x288 with 1 Axes>"
      ]
     },
     "metadata": {
      "needs_background": "light"
     },
     "output_type": "display_data"
    }
   ],
   "source": [
    "plt.figure(figsize=(4, 4))\n",
    "plt.scatter(dataset[:, 0], dataset[:, 1], color=colors[clusters])\n",
    "plt.show()"
   ]
  },
  {
   "cell_type": "code",
   "execution_count": null,
   "metadata": {},
   "outputs": [],
   "source": []
  },
  {
   "cell_type": "code",
   "execution_count": null,
   "metadata": {},
   "outputs": [],
   "source": []
  }
 ],
 "metadata": {
  "kernelspec": {
   "display_name": "Python 3",
   "language": "python",
   "name": "python3"
  },
  "language_info": {
   "codemirror_mode": {
    "name": "ipython",
    "version": 3
   },
   "file_extension": ".py",
   "mimetype": "text/x-python",
   "name": "python",
   "nbconvert_exporter": "python",
   "pygments_lexer": "ipython3",
   "version": "3.8.3"
  }
 },
 "nbformat": 4,
 "nbformat_minor": 4
}
