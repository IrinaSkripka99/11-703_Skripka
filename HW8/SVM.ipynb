{
 "cells": [
  {
   "cell_type": "code",
   "execution_count": 29,
   "metadata": {},
   "outputs": [
    {
     "data": {
      "text/plain": [
       "(6, 0)"
      ]
     },
     "execution_count": 29,
     "metadata": {},
     "output_type": "execute_result"
    }
   ],
   "source": [
    "import pygame \n",
    "from sklearn import svm\n",
    "import matplotlib.pyplot as plt\n",
    "import numpy as np\n",
    "pygame.init()"
   ]
  },
  {
   "cell_type": "code",
   "execution_count": 30,
   "metadata": {},
   "outputs": [
    {
     "name": "stderr",
     "output_type": "stream",
     "text": [
      "<ipython-input-30-6725f3cb9e1b>:46: DeprecationWarning: an integer is required (got type numpy.float64).  Implicit conversion to integers using __int__ is deprecated, and may be removed in a future version of Python.\n",
      "  pygame.draw.line(sc,(134,136,134),(xx[0], yy[0]),(xx[-1], yy[-1]),2)\n"
     ]
    }
   ],
   "source": [
    "points = []\n",
    "clusters = []\n",
    "\n",
    "pygame.init() \n",
    "sc = pygame.display.set_mode((600, 400)) \n",
    "sc.fill((255, 255, 255)) \n",
    "pygame.display.update() \n",
    " \n",
    "clock = pygame.time.Clock() \n",
    "FPS = 60 \n",
    " \n",
    "flag = True\n",
    "while flag: \n",
    "    for i in pygame.event.get(): \n",
    "        if i.type == pygame.QUIT: \n",
    "            pygame.quit() \n",
    "            flag = False\n",
    "        if i.type==pygame.MOUSEBUTTONDOWN:\n",
    "            if i.button==1:\n",
    "                pygame.draw.circle(sc, (255,0,0), i.pos, 10)\n",
    "                pygame.display.update() \n",
    "                points.append(i.pos)\n",
    "                clusters.append(0)\n",
    "        if i.type==pygame.MOUSEBUTTONDOWN:\n",
    "            if i.button==3:\n",
    "                pygame.draw.circle(sc, (0,255,0), i.pos, 10)\n",
    "                pygame.display.update() \n",
    "                points.append(i.pos)\n",
    "                clusters.append(1)\n",
    "        if i.type == pygame.KEYDOWN:\n",
    "            if i.key == pygame.K_RIGHT:\n",
    "                model = svm.SVC(kernel='linear', C=1.0)\n",
    "                model.fit(points, clusters)\n",
    "                \n",
    "                m = model.coef0\n",
    "                \n",
    "                W = model.coef_[0]\n",
    "                I = model.intercept_\n",
    "                \n",
    "                n = -W[0]/W[1]\n",
    "                \n",
    "                xx = np.linspace(0, 1000, 1000)\n",
    "                yy = n * xx - I[0] / W[1]\n",
    "                \n",
    "                \n",
    "                pygame.draw.line(sc,(134,136,134),(xx[0], yy[0]),(xx[-1], yy[-1]),2)\n",
    "                \n",
    "#                 pygame.draw.aaline(sc, (134,136,134), [0, y13], [x23, 0])\n",
    "#                 pygame.draw.aaline(sc, (134,136,134), [0, y12], [x22, 0])\n",
    "                \n",
    "                pygame.display.update()\n",
    "                \n",
    "                \n",
    "    clock.tick(FPS)"
   ]
  },
  {
   "cell_type": "code",
   "execution_count": 31,
   "metadata": {},
   "outputs": [
    {
     "data": {
      "text/html": [
       "<img src=\"plot.png\" width=\"400\"/>"
      ],
      "text/plain": [
       "<IPython.core.display.Image object>"
      ]
     },
     "metadata": {},
     "output_type": "display_data"
    }
   ],
   "source": [
    "from IPython.display import Image # Библиотека для отображения картинок\n",
    "\n",
    "display(Image(url='plot.png', \n",
    "              width = 400) # Задаем ширину картинки\n",
    "       ) "
   ]
  },
  {
   "cell_type": "code",
   "execution_count": null,
   "metadata": {},
   "outputs": [],
   "source": []
  },
  {
   "cell_type": "code",
   "execution_count": null,
   "metadata": {},
   "outputs": [],
   "source": []
  },
  {
   "cell_type": "code",
   "execution_count": null,
   "metadata": {},
   "outputs": [],
   "source": []
  },
  {
   "cell_type": "code",
   "execution_count": null,
   "metadata": {},
   "outputs": [],
   "source": []
  }
 ],
 "metadata": {
  "kernelspec": {
   "display_name": "Python 3",
   "language": "python",
   "name": "python3"
  },
  "language_info": {
   "codemirror_mode": {
    "name": "ipython",
    "version": 3
   },
   "file_extension": ".py",
   "mimetype": "text/x-python",
   "name": "python",
   "nbconvert_exporter": "python",
   "pygments_lexer": "ipython3",
   "version": "3.8.3"
  }
 },
 "nbformat": 4,
 "nbformat_minor": 4
}
